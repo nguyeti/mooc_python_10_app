{
 "cells": [
  {
   "cell_type": "code",
   "execution_count": 119,
   "metadata": {
    "collapsed": false,
    "deletable": true,
    "editable": true
   },
   "outputs": [],
   "source": [
    "# teams\n",
    "# division, team, short_prefix, long_prefix, url\n",
    "import requests\n",
    "import pandas\n",
    "from bs4 import BeautifulSoup\n",
    "\n",
    "url = \"http://www.espn.com/nba/teams\"\n",
    "r = requests.get(url)\n",
    "c = r.content\n",
    "soup = BeautifulSoup(c,\"html.parser\")\n",
    "\n",
    "all = soup.find_all(\"div\",{\"class\":\"mod-container mod-open-list mod-teams-list-medium mod-no-footer\"})\n",
    "#print(all[2].prettify())\n",
    "l=[]\n",
    "\n",
    "for division in all:\n",
    "    division_contents = division.find_all(\"ul\",{\"class\":\"medium-logos\"})\n",
    "    for item in division_contents:\n",
    "        teams = item.find_all(\"li\")\n",
    "        for team in teams:\n",
    "            d={}\n",
    "            d[\"division\"] = division.h4.text\n",
    "            d[\"team\"] = team.h5.a.text\n",
    "            d[\"short_prefix\"] = team.h5.a[\"href\"].split(\"/\")[-2]\n",
    "            d[\"long_prefix\"] = team.h5.a[\"href\"].split(\"/\")[-1]\n",
    "            d[\"url\"] = team.h5.a[\"href\"]\n",
    "            l.append(d)\n"
   ]
  },
  {
   "cell_type": "code",
   "execution_count": 123,
   "metadata": {
    "collapsed": false,
    "deletable": true,
    "editable": true
   },
   "outputs": [],
   "source": [
    "df=pandas.DataFrame(l)\n",
    "df\n",
    "df.to_csv(\"nba_teams.csv\", index=False)"
   ]
  }
 ],
 "metadata": {
  "kernelspec": {
   "display_name": "Python 3",
   "language": "python",
   "name": "python3"
  },
  "language_info": {
   "codemirror_mode": {
    "name": "ipython",
    "version": 3
   },
   "file_extension": ".py",
   "mimetype": "text/x-python",
   "name": "python",
   "nbconvert_exporter": "python",
   "pygments_lexer": "ipython3",
   "version": "3.5.1"
  }
 },
 "nbformat": 4,
 "nbformat_minor": 2
}
