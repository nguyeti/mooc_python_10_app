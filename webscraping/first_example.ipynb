{
 "cells": [
  {
   "cell_type": "code",
   "execution_count": 2,
   "metadata": {
    "collapsed": true,
    "deletable": true,
    "editable": true
   },
   "outputs": [],
   "source": [
    "import requests\n",
    "from bs4 import BeautifulSoup\n",
    "\n"
   ]
  },
  {
   "cell_type": "code",
   "execution_count": 9,
   "metadata": {
    "collapsed": false,
    "deletable": true,
    "editable": true
   },
   "outputs": [],
   "source": [
    "# load the source code\n",
    "r=requests.get(\"http://pythonhow.com/example.html\")\n",
    "c=r.content"
   ]
  },
  {
   "cell_type": "code",
   "execution_count": 22,
   "metadata": {
    "collapsed": false,
    "deletable": true,
    "editable": true
   },
   "outputs": [],
   "source": [
    "soup=BeautifulSoup(c,\"html.parser\")"
   ]
  },
  {
   "cell_type": "code",
   "execution_count": 23,
   "metadata": {
    "collapsed": false,
    "deletable": true,
    "editable": true
   },
   "outputs": [
    {
     "name": "stdout",
     "output_type": "stream",
     "text": [
      "Help on method find_all in module bs4.element:\n",
      "\n",
      "find_all(name=None, attrs={}, recursive=True, text=None, limit=None, **kwargs) method of bs4.BeautifulSoup instance\n",
      "    Extracts a list of Tag objects that match the given\n",
      "    criteria.  You can specify the name of the Tag and any\n",
      "    attributes you want the Tag to have.\n",
      "    \n",
      "    The value of a key-value pair in the 'attrs' map can be a\n",
      "    string, a list of strings, a regular expression object, or a\n",
      "    callable that takes a string and returns whether or not the\n",
      "    string matches for some custom definition of 'matches'. The\n",
      "    same is true of the tag name.\n",
      "\n"
     ]
    }
   ],
   "source": [
    "help(soup.find_all)"
   ]
  },
  {
   "cell_type": "code",
   "execution_count": 20,
   "metadata": {
    "collapsed": false,
    "deletable": true,
    "editable": true
   },
   "outputs": [],
   "source": [
    "all = soup.find_all(\"div\",{\"class\":\"cities\"})"
   ]
  },
  {
   "cell_type": "code",
   "execution_count": 67,
   "metadata": {
    "collapsed": false,
    "deletable": true,
    "editable": true
   },
   "outputs": [
    {
     "name": "stdout",
     "output_type": "stream",
     "text": [
      "[<h2>London</h2>]\n",
      "<h2>London</h2>\n",
      "<class 'bs4.element.Tag'>\n",
      "London\n",
      "\n",
      "\n",
      "[<h2>Paris</h2>]\n",
      "<h2>Paris</h2>\n",
      "<class 'bs4.element.Tag'>\n",
      "Paris\n",
      "\n",
      "\n",
      "[<h2>Tokyo</h2>]\n",
      "<h2>Tokyo</h2>\n",
      "<class 'bs4.element.Tag'>\n",
      "Tokyo\n",
      "\n",
      "\n"
     ]
    }
   ],
   "source": [
    "for i in all:\n",
    "    print(i.find_all(\"h2\"))\n",
    "    print(i.find_all(\"h2\")[0])\n",
    "    print(type(i.find_all(\"h2\")[0]))\n",
    "    print(i.find_all(\"h2\")[0].text)\n",
    "    print(\"\\n\")\n",
    "    "
   ]
  },
  {
   "cell_type": "code",
   "execution_count": 86,
   "metadata": {
    "collapsed": false,
    "deletable": true,
    "editable": true
   },
   "outputs": [
    {
     "data": {
      "text/plain": [
       "[<div class=\"team-data\">\n",
       " <div class=\"team-info\">\n",
       " <p class=\"team-record\">\n",
       " <a href=\"/teams/profile?team=NE\">(14-2-0)</a>\n",
       " </p>\n",
       " <p class=\"team-name\"><a href=\"/teams/profile?team=NE\">Patriots</a></p>\n",
       " </div>\n",
       " <p class=\"total-score\">34</p>\n",
       " <p class=\"quarters-score\"><span class=\"first-qt\">0</span><span class=\"second-qt\">3</span><span class=\"third-qt\">6</span><span class=\"fourth-qt\">19</span><span class=\"ot-qt\">6</span></p>\n",
       " </div>, <div class=\"team-data\">\n",
       " <div class=\"team-info\">\n",
       " <p class=\"team-record\">\n",
       " <a href=\"/teams/profile?team=ATL\">(11-5-0)</a>\n",
       " </p>\n",
       " <p class=\"team-name\"><a href=\"/teams/profile?team=ATL\">Falcons</a></p>\n",
       " </div>\n",
       " <p class=\"total-score\">28</p>\n",
       " <p class=\"quarters-score\"><span class=\"first-qt\">0</span><span class=\"second-qt\">21</span><span class=\"third-qt\">7</span><span class=\"fourth-qt\">0</span><span class=\"ot-qt\">0</span></p>\n",
       " </div>]"
      ]
     },
     "execution_count": 86,
     "metadata": {},
     "output_type": "execute_result"
    }
   ],
   "source": [
    "request = requests.get(\"http://www.nfl.com/scores\")\n",
    "content = request.content\n",
    "\n",
    "soup = BeautifulSoup(content, \"html.parser\")\n",
    "team_data = soup.find_all(\"div\",{\"class\":\"team-data\"})\n",
    "team_data\n"
   ]
  },
  {
   "cell_type": "code",
   "execution_count": 124,
   "metadata": {
    "collapsed": false,
    "deletable": true,
    "editable": true
   },
   "outputs": [
    {
     "name": "stdout",
     "output_type": "stream",
     "text": [
      " Patriots 34 Falcons 28\n"
     ]
    }
   ],
   "source": [
    "text =\"\"\n",
    "for team in team_data:\n",
    "    teams =team.find_all(\"p\",{\"class\":\"team-name\"})\n",
    "    scores = team.find_all(\"p\",{\"class\":\"total-score\"})\n",
    "    text = text + \" \" + teams[0].text + \" \" + scores[0].text\n",
    "print(text)"
   ]
  },
  {
   "cell_type": "code",
   "execution_count": 3,
   "metadata": {
    "collapsed": false,
    "deletable": true,
    "editable": true
   },
   "outputs": [
    {
     "name": "stdout",
     "output_type": "stream",
     "text": [
      "1. \n",
      "UK attacker previously investigated over extremism \n",
      "\n",
      "2. Fed's Yellen does not comment on monetary policy\n",
      "\n",
      "3. U.S. stock futures higher as investors eye healthcare vote\n",
      "\n",
      "4. Fierce clashes persist in Syria ahead of renewed peace talks\n",
      "\n",
      "5. Accenture's profit slips as costs rise\n",
      "\n",
      "6. High stakes for Trump in vote on healthcare plan\n",
      "\n"
     ]
    }
   ],
   "source": [
    "request_reuters = requests.get(\"http://www.reuters.com\")\n",
    "content_reuters = request_reuters.content\n",
    "soup = BeautifulSoup(content_reuters,\"html.parser\")\n",
    "headlines = soup.find_all(\"h2\",{\"class\":\"story-title\"})\n",
    "\n",
    "for headline,i in zip(headlines,range(1,len(headlines))):\n",
    "    print(str(i) + \". \" + headline.text)\n",
    "    \n",
    "        \n"
   ]
  },
  {
   "cell_type": "code",
   "execution_count": 147,
   "metadata": {
    "collapsed": false,
    "deletable": true,
    "editable": true
   },
   "outputs": [
    {
     "name": "stdout",
     "output_type": "stream",
     "text": [
      "0 0\n",
      "1 1\n",
      "2 2\n",
      "3 3\n"
     ]
    }
   ],
   "source": [
    "for a, b in zip(range(4),range(5)):\n",
    "    print(a,b)"
   ]
  }
 ],
 "metadata": {
  "kernelspec": {
   "display_name": "Python 3",
   "language": "python",
   "name": "python3"
  },
  "language_info": {
   "codemirror_mode": {
    "name": "ipython",
    "version": 3
   },
   "file_extension": ".py",
   "mimetype": "text/x-python",
   "name": "python",
   "nbconvert_exporter": "python",
   "pygments_lexer": "ipython3",
   "version": "3.5.1"
  }
 },
 "nbformat": 4,
 "nbformat_minor": 2
}
