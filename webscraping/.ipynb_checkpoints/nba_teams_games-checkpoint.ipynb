{
 "cells": [
  {
   "cell_type": "code",
   "execution_count": 109,
   "metadata": {
    "collapsed": false,
    "deletable": true,
    "editable": true
   },
   "outputs": [
    {
     "name": "stdout",
     "output_type": "stream",
     "text": [
      "http://www.espn.com/nba/team/schedule/_/name/bos/year/2003\n",
      "saving to 2003_bos_games.csv\n",
      "http://www.espn.com/nba/team/schedule/_/name/bos/year/2004\n",
      "saving to 2004_bos_games.csv\n",
      "http://www.espn.com/nba/team/schedule/_/name/bos/year/2005\n",
      "saving to 2005_bos_games.csv\n",
      "http://www.espn.com/nba/team/schedule/_/name/bos/year/2006\n",
      "saving to 2006_bos_games.csv\n",
      "http://www.espn.com/nba/team/schedule/_/name/bos/year/2007\n",
      "saving to 2007_bos_games.csv\n",
      "http://www.espn.com/nba/team/schedule/_/name/bos/year/2008\n",
      "saving to 2008_bos_games.csv\n",
      "http://www.espn.com/nba/team/schedule/_/name/bos/year/2009\n",
      "saving to 2009_bos_games.csv\n",
      "http://www.espn.com/nba/team/schedule/_/name/bos/year/2010\n",
      "saving to 2010_bos_games.csv\n",
      "http://www.espn.com/nba/team/schedule/_/name/bos/year/2011\n",
      "saving to 2011_bos_games.csv\n",
      "http://www.espn.com/nba/team/schedule/_/name/bos/year/2012\n",
      "saving to 2012_bos_games.csv\n",
      "http://www.espn.com/nba/team/schedule/_/name/bos/year/2013\n"
     ]
    },
    {
     "ename": "IndexError",
     "evalue": "list index out of range",
     "output_type": "error",
     "traceback": [
      "\u001b[1;31m---------------------------------------------------------------------------\u001b[0m",
      "\u001b[1;31mIndexError\u001b[0m                                Traceback (most recent call last)",
      "\u001b[1;32m<ipython-input-109-6c345b81ae40>\u001b[0m in \u001b[0;36m<module>\u001b[1;34m()\u001b[0m\n\u001b[0;32m     47\u001b[0m                             \u001b[0md\u001b[0m\u001b[1;33m[\u001b[0m\u001b[1;34m\"visit_team_score\"\u001b[0m\u001b[1;33m]\u001b[0m\u001b[1;33m=\u001b[0m\u001b[0m_score\u001b[0m\u001b[1;33m[\u001b[0m\u001b[1;36m1\u001b[0m\u001b[1;33m]\u001b[0m\u001b[1;33m\u001b[0m\u001b[0m\n\u001b[0;32m     48\u001b[0m                         \u001b[1;32melse\u001b[0m\u001b[1;33m:\u001b[0m\u001b[1;33m\u001b[0m\u001b[0m\n\u001b[1;32m---> 49\u001b[1;33m                             \u001b[0md\u001b[0m\u001b[1;33m[\u001b[0m\u001b[1;34m\"home_team_score\"\u001b[0m\u001b[1;33m]\u001b[0m\u001b[1;33m=\u001b[0m\u001b[0m_score\u001b[0m\u001b[1;33m[\u001b[0m\u001b[1;36m1\u001b[0m\u001b[1;33m]\u001b[0m\u001b[1;33m\u001b[0m\u001b[0m\n\u001b[0m\u001b[0;32m     50\u001b[0m                             \u001b[0md\u001b[0m\u001b[1;33m[\u001b[0m\u001b[1;34m\"visit_team_score\"\u001b[0m\u001b[1;33m]\u001b[0m\u001b[1;33m=\u001b[0m\u001b[0m_score\u001b[0m\u001b[1;33m[\u001b[0m\u001b[1;36m0\u001b[0m\u001b[1;33m]\u001b[0m\u001b[1;33m\u001b[0m\u001b[0m\n\u001b[0;32m     51\u001b[0m                     \u001b[1;32melse\u001b[0m\u001b[1;33m:\u001b[0m\u001b[1;33m\u001b[0m\u001b[0m\n",
      "\u001b[1;31mIndexError\u001b[0m: list index out of range"
     ]
    }
   ],
   "source": [
    "import pandas\n",
    "import requests\n",
    "from bs4 import BeautifulSoup\n",
    "from datetime import datetime\n",
    "import re\n",
    "\n",
    "\n",
    "teams = pandas.read_csv(\"nba_teams.csv\")\n",
    "for team_prefix in teams[\"short_prefix\"]:\n",
    "    l=[]\n",
    "    for year in range(2003,2017,1):\n",
    "        url =\"http://www.espn.com/nba/team/schedule/_/name/{0}/year/{1}\"\n",
    "        print(url.format(team_prefix,str(year)))\n",
    "        r = requests.get(url.format(team_prefix,str(year)))\n",
    "        c = r.content\n",
    "        soup = BeautifulSoup(c,\"html.parser\")\n",
    "        all = soup.find(\"div\",{\"class\":\"mod-content\"})\n",
    "\n",
    "        all_rows = all.find_all(\"tr\",class_=re.compile(r\"(even|odd)row\"))\n",
    "        all_rows\n",
    "\n",
    "\n",
    "        for row in all_rows:\n",
    "            row_details = row.find_all(\"td\")\n",
    "            d={}\n",
    "            for detail,i in zip(row_details,range(0,len(row_details))):        \n",
    "                #print(i,detail.text)\n",
    "                if i == 0:\n",
    "                    d[\"date\"] = datetime.strptime(detail.text + \" \" + str(year),\"%a, %b %d %Y\")\n",
    "                elif i == 1:\n",
    "                    _home = True if \"vs\" in detail.text else False\n",
    "                    _team = BeautifulSoup(c,\"html.parser\").find(\"h2\",{\"class\":\"logo\"}).text.split(\" \")[0]\n",
    "                    _other_team = detail.text.replace(\"@\",\"\").replace(\"vs\",\"\")\n",
    "                    d[\"home_team\"] =  _team if _home else _other_team\n",
    "                    d[\"visit_team\"] = _team if not _home else _other_team\n",
    "                    #d[\"location\"] = \"home\" if \"vs\" in detail.text else \"away\"   \n",
    "                elif i == 2:\n",
    "                    #d[\"result\"] = detail.text[0]\n",
    "                    #d[\"result_score\"] = detail.text[1:]\n",
    "                    _won = True if \"W\" in detail.text[0] else False\n",
    "                    _score = detail.text[1:].split(\"-\") if detail.text not in [\"Postponed\",\"Canceled\"] else \"--\"\n",
    "                    #print(_score)\n",
    "\n",
    "                    if _home:\n",
    "                        if _won:\n",
    "                            d[\"home_team_score\"]=_score[0]\n",
    "                            d[\"visit_team_score\"]=_score[1]\n",
    "                        else:\n",
    "                            d[\"home_team_score\"]=_score[1]\n",
    "                            d[\"visit_team_score\"]=_score[0]\n",
    "                    else:\n",
    "                        if _won:\n",
    "                            d[\"home_team_score\"]=_score[1]\n",
    "                            d[\"visit_team_score\"]=_score[0]\n",
    "                        else:\n",
    "                            d[\"home_team_score\"]=_score[0]\n",
    "                            d[\"visit_team_score\"]=_score[1]\n",
    "                #elif i == 3:\n",
    "                 #   d[\"current w/l\"] = str(detail.text)\n",
    "                #elif i == 4:\n",
    "                 #   d[\"hi_points\"] = detail.text\n",
    "                #elif i == 5:\n",
    "                 #   d[\"hi_rebounds\"] = detail.text\n",
    "                #elif i == 6:\n",
    "                 #   d[\"hi_assists\"] = detail.text\n",
    "            l.append(d)\n",
    "        df = pandas.DataFrame(l)\n",
    "        df.to_csv(\"{0}_{1}_games.csv\".format(str(year),team_prefix), index=False, date_format='%Y-%m-%d')\n",
    "        print(\"saving to \" + \"{0}_{1}_games.csv\".format(str(year),team_prefix))\n"
   ]
  }
 ],
 "metadata": {
  "kernelspec": {
   "display_name": "Python 3",
   "language": "python",
   "name": "python3"
  },
  "language_info": {
   "codemirror_mode": {
    "name": "ipython",
    "version": 3
   },
   "file_extension": ".py",
   "mimetype": "text/x-python",
   "name": "python",
   "nbconvert_exporter": "python",
   "pygments_lexer": "ipython3",
   "version": "3.5.1"
  }
 },
 "nbformat": 4,
 "nbformat_minor": 2
}
