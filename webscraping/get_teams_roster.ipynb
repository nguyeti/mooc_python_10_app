{
 "cells": [
  {
   "cell_type": "code",
   "execution_count": 63,
   "metadata": {
    "collapsed": false
   },
   "outputs": [],
   "source": [
    "import pandas, requests, re\n",
    "from bs4 import BeautifulSoup\n",
    "from datetime import datetime\n",
    "\n",
    "def get_year():\n",
    "    return str(datetime.now().year)\n",
    "\n",
    "def get_soup(team_name_short, team_name_long):\n",
    "    base_url = \"http://www.espn.com/nba/team/roster/_/name/{0}/{1}\"\n",
    "    r = requests.get(base_url.format(team_name_short,team_name_long))\n",
    "    c = r.content\n",
    "    soup = BeautifulSoup(c, \"html.parser\")\n",
    "    return soup\n",
    "\n",
    "def get_rosters(short_team_name_col,long_team_name_col):\n",
    "    print(\"***** START *****\")\n",
    "    for short_team_name,long_team_name in zip(short_team_name_col,long_team_name_col):\n",
    "        soup = get_soup(short_team_name,long_team_name)\n",
    "        table = soup.find_all(\"div\",{\"class\":\"mod-container mod-table mod-no-header-footer\"})\n",
    "\n",
    "        all_rows = []\n",
    "        for content in table:\n",
    "            rows = content.find_all(\"tr\", class_=re.compile(r\"(even|odd)row\"))\n",
    "            for row, info_nb in zip(rows,range(1,len(rows)+1)):\n",
    "                player_infos ={}\n",
    "                row_cols = row.find_all(\"td\")\n",
    "                for col, col_nb in zip(row_cols,range(0,len(row_cols))):\n",
    "                    if col_nb == 0:\n",
    "                        player_infos[\"player_number\"] = col.text\n",
    "                    elif col_nb == 1:\n",
    "                        player_infos[\"player_name\"] = col.text\n",
    "                    elif col_nb == 2:\n",
    "                        player_infos[\"player_pos\"] = col.text\n",
    "                    elif col_nb == 3:\n",
    "                        player_infos[\"player_age\"] = col.text\n",
    "                    elif col_nb == 4:\n",
    "                        player_infos[\"player_height\"] = col.text\n",
    "                    elif col_nb == 5:\n",
    "                        player_infos[\"player_weight\"] = col.text\n",
    "                    elif col_nb == 6:\n",
    "                        player_infos[\"player_college\"] = col.text\n",
    "                    elif col_nb == 7:\n",
    "                        player_infos[\"player_salary\"] = col.text\n",
    "                all_rows.append(player_infos)\n",
    "\n",
    "        df = pandas.DataFrame(all_rows)\n",
    "        df.to_csv(\"{0}_{1}_roster.csv\".format(get_year(), short_team_name), index=False)\n",
    "        print(\"saving {0} roster to {1}_{2}_roster.csv\".format(long_team_name,get_year(), short_team_name))\n",
    "    print(\"***** END *****\")"
   ]
  },
  {
   "cell_type": "code",
   "execution_count": 65,
   "metadata": {
    "collapsed": false
   },
   "outputs": [
    {
     "name": "stdout",
     "output_type": "stream",
     "text": [
      "***** START *****\n",
      "saving boston-celtics roster to 2017_bos_roster.csv\n",
      "saving brooklyn-nets roster to 2017_bkn_roster.csv\n",
      "saving new-york-knicks roster to 2017_ny_roster.csv\n",
      "saving philadelphia-76ers roster to 2017_phi_roster.csv\n",
      "saving toronto-raptors roster to 2017_tor_roster.csv\n",
      "saving golden-state-warriors roster to 2017_gs_roster.csv\n",
      "saving la-clippers roster to 2017_lac_roster.csv\n",
      "saving los-angeles-lakers roster to 2017_lal_roster.csv\n",
      "saving phoenix-suns roster to 2017_phx_roster.csv\n",
      "saving sacramento-kings roster to 2017_sac_roster.csv\n",
      "saving chicago-bulls roster to 2017_chi_roster.csv\n",
      "saving cleveland-cavaliers roster to 2017_cle_roster.csv\n",
      "saving detroit-pistons roster to 2017_det_roster.csv\n",
      "saving indiana-pacers roster to 2017_ind_roster.csv\n",
      "saving milwaukee-bucks roster to 2017_mil_roster.csv\n",
      "saving dallas-mavericks roster to 2017_dal_roster.csv\n",
      "saving houston-rockets roster to 2017_hou_roster.csv\n",
      "saving memphis-grizzlies roster to 2017_mem_roster.csv\n",
      "saving new-orleans-pelicans roster to 2017_no_roster.csv\n",
      "saving san-antonio-spurs roster to 2017_sa_roster.csv\n",
      "saving atlanta-hawks roster to 2017_atl_roster.csv\n",
      "saving charlotte-hornets roster to 2017_cha_roster.csv\n",
      "saving miami-heat roster to 2017_mia_roster.csv\n",
      "saving orlando-magic roster to 2017_orl_roster.csv\n",
      "saving washington-wizards roster to 2017_wsh_roster.csv\n",
      "saving denver-nuggets roster to 2017_den_roster.csv\n",
      "saving minnesota-timberwolves roster to 2017_min_roster.csv\n",
      "saving oklahoma-city-thunder roster to 2017_okc_roster.csv\n",
      "saving portland-trail-blazers roster to 2017_por_roster.csv\n",
      "saving utah-jazz roster to 2017_utah_roster.csv\n",
      "***** END *****\n"
     ]
    }
   ],
   "source": [
    "df = pandas.read_csv(\"nba_teams.csv\", usecols=['short_prefix','long_prefix'])\n",
    "get_rosters(df[\"short_prefix\"], df[\"long_prefix\"])"
   ]
  }
 ],
 "metadata": {
  "kernelspec": {
   "display_name": "Python 3",
   "language": "python",
   "name": "python3"
  },
  "language_info": {
   "codemirror_mode": {
    "name": "ipython",
    "version": 3
   },
   "file_extension": ".py",
   "mimetype": "text/x-python",
   "name": "python",
   "nbconvert_exporter": "python",
   "pygments_lexer": "ipython3",
   "version": "3.5.1"
  }
 },
 "nbformat": 4,
 "nbformat_minor": 2
}
